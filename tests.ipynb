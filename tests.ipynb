{
 "cells": [
  {
   "cell_type": "code",
   "execution_count": 15,
   "metadata": {},
   "outputs": [],
   "source": [
    "import torch\n",
    "from models import ModelGenerator"
   ]
  },
  {
   "cell_type": "code",
   "execution_count": 16,
   "metadata": {},
   "outputs": [],
   "source": [
    "device = torch.device('cuda' if torch.cuda.is_available() else 'cpu')"
   ]
  },
  {
   "cell_type": "code",
   "execution_count": 17,
   "metadata": {},
   "outputs": [
    {
     "name": "stderr",
     "output_type": "stream",
     "text": [
      "c:\\Users\\iagor\\miniconda3\\envs\\phdfinal\\lib\\site-packages\\torchvision\\models\\_utils.py:208: UserWarning: The parameter 'pretrained' is deprecated since 0.13 and may be removed in the future, please use 'weights' instead.\n",
      "  warnings.warn(\n",
      "c:\\Users\\iagor\\miniconda3\\envs\\phdfinal\\lib\\site-packages\\torchvision\\models\\_utils.py:223: UserWarning: Arguments other than a weight enum or `None` for 'weights' are deprecated since 0.13 and may be removed in the future. The current behavior is equivalent to passing `weights=SqueezeNet1_0_Weights.IMAGENET1K_V1`. You can also use `weights=SqueezeNet1_0_Weights.DEFAULT` to get the most up-to-date weights.\n",
      "  warnings.warn(msg)\n"
     ]
    },
    {
     "data": {
      "text/plain": [
       "<All keys matched successfully>"
      ]
     },
     "execution_count": 17,
     "metadata": {},
     "output_type": "execute_result"
    }
   ],
   "source": [
    "model_cam1 = ModelGenerator.get_dl_model(\"squeezenet\", True, device)\n",
    "model_cam1.load_state_dict(torch.load('checkpoints/cam1/CP_epoch4653.pth', map_location=device))\n",
    "\n",
    "model_cam2 = ModelGenerator.get_dl_model(\"squeezenet\", True, device)\n",
    "model_cam2.load_state_dict(torch.load('checkpoints/cam2/CP_epoch4438.pth', map_location=device))\n",
    "\n",
    "model_cam3 = ModelGenerator.get_dl_model(\"squeezenet\", True, device)\n",
    "model_cam3.load_state_dict(torch.load('checkpoints/cam3/CP_epoch4910.pth', map_location=device))\n",
    "\n",
    "model_cam4 = ModelGenerator.get_dl_model(\"squeezenet\", True, device)\n",
    "model_cam4.load_state_dict(torch.load('checkpoints/cam4/CP_epoch2884.pth', map_location=device))"
   ]
  },
  {
   "cell_type": "code",
   "execution_count": null,
   "metadata": {},
   "outputs": [],
   "source": []
  }
 ],
 "metadata": {
  "kernelspec": {
   "display_name": "phdfinal",
   "language": "python",
   "name": "python3"
  },
  "language_info": {
   "codemirror_mode": {
    "name": "ipython",
    "version": 3
   },
   "file_extension": ".py",
   "mimetype": "text/x-python",
   "name": "python",
   "nbconvert_exporter": "python",
   "pygments_lexer": "ipython3",
   "version": "3.8.18"
  }
 },
 "nbformat": 4,
 "nbformat_minor": 2
}
