{
 "cells": [
  {
   "cell_type": "code",
   "execution_count": 1,
   "metadata": {},
   "outputs": [],
   "source": [
    "from __future__ import absolute_import\n",
    "from __future__ import division\n",
    "from __future__ import print_function"
   ]
  },
  {
   "cell_type": "code",
   "execution_count": 3,
   "metadata": {},
   "outputs": [],
   "source": [
    "#import pandas as pd\n",
    "import numpy as np\n",
    "import cv2\n",
    "\n",
    "def get_dataset(csv_in):\n",
    "    \n",
    "    all_joints = pd.read_csv(csv_in, delimiter=\" \", header = None)\n",
    "    all_joints.columns = [\"file\",\"k1_x\",\"k1_y\",\"k2_x\",\"k2_y\",\"k3_x\",\"k3_y\",\"k4_x\",\"k4_y\",\n",
    "                      \"k5_x\",\"k5_y\",\"k6_x\",\"k6_y\",\"k7_x\",\"k7_y\",\"k8_x\",\"k8_y\"]\n",
    "    return all_joints\n",
    "\n",
    "\n",
    "def get_joints_files_from_df(df):\n",
    "    \n",
    "    joints = np.array(df.iloc[:,1:17])\n",
    "    files = np.array(df.iloc[:,0])\n",
    "    \n",
    "    return joints, files\n",
    "\n",
    "\n",
    "def get_joints_from_id(idx, df_data, dir_img):\n",
    "\n",
    "    str_id = dir_img + str(idx) + \".jpg\"\n",
    "    filtered = df_data[(df_data.file==str_id)]\n",
    "    \n",
    "    joints_data = np.array(filtered.iloc[:,1:17])\n",
    "    joints_data = np.array([kp_out for k in joints_data for kp_out in k])\n",
    "    \n",
    "    joints_data = [joints_data[i]/normalization[0] if i%2==0 else joints_data[i]/normalization[1] for i in range(0,len(joints_data))]\n",
    "    joints_data = np.array(joints_data)\n",
    "    \n",
    "    return joints_data"
   ]
  },
  {
   "cell_type": "code",
   "execution_count": null,
   "metadata": {},
   "outputs": [],
   "source": [
    "joints = pd.read_csv(csv_in, delimiter=\" \", header = None)\n",
    "    all_joints.columns = [\"file\",\"k1_x\",\"k1_y\",\"k2_x\",\"k2_y\",\"k3_x\",\"k3_y\",\"k4_x\",\"k4_y\",\n",
    "                      \"k5_x\",\"k5_y\",\"k6_x\",\"k6_y\",\"k7_x\",\"k7_y\",\"k8_x\",\"k8_y\"]\n",
    "    return all_joints\n",
    "\n",
    "\n",
    "def get_joints_files_from_df(df):\n",
    "    \n",
    "    joints = np.array(df.iloc[:,1:17])\n",
    "    files = np.array(df.iloc[:,0])\n",
    "    \n",
    "    return joints, files\n",
    "\n",
    "\n",
    "def get_joints_from_id(idx, df_data, dir_img):\n",
    "\n",
    "    str_id = dir_img + str(idx) + \".jpg\"\n",
    "    filtered = df_data[(df_data.file==str_id)]\n",
    "    \n",
    "    joints_data = np.array(filtered.iloc[:,1:17])\n",
    "    joints_data = np.array([kp_out for k in joints_data for kp_out in k])\n",
    "    \n",
    "    joints_data = [joints_data[i]/normalization[0] if i%2==0 else joints_data[i]/normalization[1] for i in range(0,len(joints_data))]\n",
    "    joints_data = np.array(joints_data)\n",
    "    \n",
    "    return joints_data"
   ]
  },
  {
   "cell_type": "code",
   "execution_count": null,
   "metadata": {},
   "outputs": [],
   "source": []
  },
  {
   "cell_type": "code",
   "execution_count": 20,
   "metadata": {},
   "outputs": [],
   "source": [
    "from torch.utils.data import Dataset\n",
    "from os import listdir\n",
    "from os.path import splitext\n",
    "from PIL import Image\n",
    "import numpy as np\n",
    "import cv2\n",
    "from glob import glob\n",
    "import torch\n",
    "\n",
    "class BasicDataset(Dataset):\n",
    "    def __init__(self, df_set, input_channels=1):\n",
    "        \n",
    "        self.df_set         = df_set\n",
    "        self.input_channels = input_channels\n",
    "        \n",
    "        dir_img = df_set.values[0,0]\n",
    "        dir_img = dir_img.replace(dir_img.split('/')[-1], \"\")\n",
    "        \n",
    "        self.imgs_dir       = dir_img\n",
    "\n",
    "        self.ids = [file.split(\"/\")[4].split(\".\")[0] for file in self.df_set.file.values]\n",
    "        #print(self.ids)\n",
    "\n",
    "    def __len__(self):\n",
    "        return len(self.ids)\n",
    "\n",
    "    @classmethod\n",
    "    def preprocess(cls, pil_img):\n",
    "\n",
    "        img_nd = np.array(pil_img)\n",
    "\n",
    "        if len(img_nd.shape) == 2:\n",
    "            img_nd = np.expand_dims(img_nd, axis=2)\n",
    "\n",
    "        # HWC to CHW\n",
    "        img_trans = img_nd.transpose((2, 0, 1))\n",
    "        \n",
    "        if img_trans.max() > 1:\n",
    "            img_trans = img_trans / 255\n",
    "\n",
    "        return img_trans\n",
    "\n",
    "    def __getitem__(self, i):\n",
    "        \n",
    "        idx = self.ids[i]\n",
    "        \n",
    "        img_file = glob(self.imgs_dir + idx + '.*')\n",
    "        \n",
    "        img = Image.open(img_file[0])\n",
    "        \n",
    "        if self.input_channels == 1:\n",
    "            red, green, blue = img.split()\n",
    "            img = green \n",
    "            \n",
    "        img = self.preprocess(img)\n",
    "        \n",
    "        joints_data = get_joints_from_id(idx, self.df_set, self.imgs_dir)\n",
    "        #print(joints_data)\n",
    "        \n",
    "        return {\n",
    "            'image'    : torch.from_numpy(img).type(torch.FloatTensor),\n",
    "            'keypoints': torch.from_numpy(joints_data).type(torch.FloatTensor)\n",
    "        }\n",
    "\n",
    "\n",
    "class CarvanaDataset(BasicDataset):\n",
    "    def __init__(self, imgs_dir, masks_dir, scale=1):\n",
    "        super().__init__(imgs_dir, masks_dir, scale, mask_suffix='_mask')"
   ]
  },
  {
   "cell_type": "code",
   "execution_count": 4,
   "metadata": {},
   "outputs": [],
   "source": [
    "#######TRANSFER LEARNING"
   ]
  },
  {
   "cell_type": "code",
   "execution_count": 5,
   "metadata": {},
   "outputs": [],
   "source": [
    "import torch\n",
    "import torch.nn as nn\n",
    "import torch.optim as optim\n",
    "import numpy as np\n",
    "import torchvision\n",
    "from torchvision import datasets, models, transforms\n",
    "from torch.nn import Sequential"
   ]
  },
  {
   "cell_type": "code",
   "execution_count": null,
   "metadata": {},
   "outputs": [],
   "source": []
  },
  {
   "cell_type": "code",
   "execution_count": 35,
   "metadata": {},
   "outputs": [],
   "source": [
    "from torch.utils.data import DataLoader, random_split\n",
    "from torch.utils.tensorboard import SummaryWriter\n",
    "from torch import optim\n",
    "import torch\n",
    "import torch.nn.functional as F\n",
    "from tqdm.notebook import tqdm\n",
    "import os\n",
    "from time import gmtime, strftime\n",
    "\n",
    "from torchvision import transforms\n",
    "\n",
    "import torch\n",
    "from torch.autograd import Function\n",
    "\n",
    "import logging\n",
    "\n",
    "#from google.colab import files\n",
    "\n",
    "\n",
    "import matplotlib.pyplot as plt\n",
    "\n",
    "def delete_previous_checkpoints(folder):\n",
    "    \n",
    "    import os, shutil\n",
    "    \n",
    "    for filename in os.listdir(folder):\n",
    "        file_path = os.path.join(folder, filename)\n",
    "        try:\n",
    "            if os.path.isfile(file_path) or os.path.islink(file_path):\n",
    "                os.unlink(file_path)\n",
    "            elif os.path.isdir(file_path):\n",
    "                shutil.rmtree(file_path)\n",
    "        except Exception as e:\n",
    "            print('Failed to delete %s. Reason: %s' % (file_path, e))\n",
    "\n",
    "def evaluate_regression(net, val_loader, criterion):\n",
    "\n",
    "    net.eval()\n",
    "    \n",
    "    losses = []\n",
    "    running_loss = 0\n",
    "    \n",
    "    for batch in val_loader:\n",
    "        imgs = batch['image']\n",
    "        true_keys = batch['keypoints']\n",
    "\n",
    "        imgs = imgs.to(device=device, dtype=torch.float32)\n",
    "        true_keys = true_keys.to(device=device, dtype=torch.float32)\n",
    "\n",
    "        y_pred = net(imgs)\n",
    "        loss = criterion(y_pred, true_keys)                    \n",
    "                \n",
    "        running_loss += loss.item() * imgs.size(0)\n",
    "                \n",
    "    loss = running_loss / len(val_loader)\n",
    "    \n",
    "    return loss\n",
    "\n",
    "def plot_losses(train_losses, val_losses):\n",
    "    \n",
    "    epochs = []\n",
    "\n",
    "    for i in range(1,len(train_losses)+1):\n",
    "        epochs.append(i)\n",
    "\n",
    "    plt.plot(epochs, train_losses, color='r', label='Train loss')\n",
    "    plt.plot(epochs, val_losses, color='b', label='Validation loss')\n",
    "\n",
    "    plt.ylabel('Error', fontsize=12)\n",
    "    plt.xlabel('Epochs', fontsize=12)\n",
    "\n",
    "    plt.legend(prop={'size': 12})\n",
    "    \n",
    "    plt.rcParams[\"figure.figsize\"] = (10,10)\n",
    "\n",
    "    plt.show()\n",
    "\n",
    "\n",
    "def train_net(net,\n",
    "              device,\n",
    "              train_loader,\n",
    "              validation_loader,\n",
    "              epochs=5,\n",
    "              batch_size=1,\n",
    "              lr=0.001,\n",
    "              kfold=5):\n",
    "    \n",
    "\n",
    "    global_step = 0\n",
    "\n",
    "    optimizer = optim.Adam(net.parameters(), lr = 0.0005)\n",
    "    criterion = nn.MSELoss()\n",
    "\n",
    "    if not os.path.isdir(dir_checkpoint):\n",
    "        os.mkdir(dir_checkpoint)\n",
    "        \n",
    "    os.mkdir(dir_checkpoint+\"/\"+str(kfold))\n",
    "    os.mkdir(dir_checkpoint+\"/\"+str(kfold)+\"/train\")\n",
    "    os.mkdir(dir_checkpoint+\"/\"+str(kfold)+\"/val\")\n",
    "    \n",
    "    best_loss_val = 99999999999999999\n",
    "    best_loss_train = 99999999999999999\n",
    "    \n",
    "    losses = []\n",
    "    train_losses = []\n",
    "    val_losses = []\n",
    "    \n",
    "    for epoch in tqdm(range(epochs)):\n",
    "        net.train()\n",
    "\n",
    "        epoch_loss = 0\n",
    "        running_loss = 0\n",
    "            \n",
    "        for batch in train_loader:\n",
    "            imgs = batch['image']\n",
    "            true_keys = batch['keypoints']\n",
    "\n",
    "            imgs = imgs.to(device=device, dtype=torch.float32)\n",
    "            true_keys = true_keys.to(device=device, dtype=torch.float32)\n",
    "\n",
    "            y_pred = net(imgs)\n",
    "                \n",
    "            loss = criterion(y_pred, true_keys) \n",
    "                \n",
    "            running_loss += loss.item() * imgs.size(0)\n",
    "\n",
    "            optimizer.zero_grad()\n",
    "            loss.backward()\n",
    "            nn.utils.clip_grad_value_(net.parameters(), 0.1)\n",
    "            optimizer.step()\n",
    "\n",
    "            \n",
    "        epoch_loss = running_loss / len(train_loader)\n",
    "        train_losses.append(epoch_loss)\n",
    "        running_loss = 0\n",
    "            \n",
    "        val_loss = evaluate_regression(net, validation_loader, criterion)\n",
    "        val_losses.append(val_loss)\n",
    "            \n",
    "            \n",
    "            #saving ever the best model\n",
    "        if epoch_loss < best_loss_train:\n",
    "            best_loss_train = epoch_loss\n",
    "            delete_previous_checkpoints(dir_checkpoint+\"/\"+str(kfold)+\"/train\")\n",
    "            cp_file = dir_checkpoint+\"/\"+str(kfold)+\"/train/\" + f'CP_epoch{epoch + 1}.pth'\n",
    "            torch.save(net.state_dict(), cp_file)\n",
    "                \n",
    "        if val_loss < best_loss_val:\n",
    "            best_loss_val = val_loss\n",
    "            delete_previous_checkpoints(dir_checkpoint+\"/\"+str(kfold)+\"/val\")\n",
    "            cp_file = dir_checkpoint+\"/\"+str(kfold)+\"/val/\" + f'CP_epoch{epoch + 1}.pth'\n",
    "            torch.save(net.state_dict(), cp_file)\n",
    "            \n",
    "    \n",
    "    cp_file = dir_checkpoint+\"/CP_epoch1000.pth\"\n",
    "    torch.save(net.state_dict(), cp_file)\n",
    "\n",
    "    return train_losses, val_losses"
   ]
  },
  {
   "cell_type": "code",
   "execution_count": null,
   "metadata": {},
   "outputs": [],
   "source": []
  },
  {
   "cell_type": "code",
   "execution_count": null,
   "metadata": {},
   "outputs": [],
   "source": []
  },
  {
   "cell_type": "code",
   "execution_count": 7,
   "metadata": {},
   "outputs": [],
   "source": [
    "from PIL import Image\n",
    "from matplotlib.pyplot import imshow\n",
    "import matplotlib.pyplot as plt\n",
    "from torchvision import transforms\n",
    "import numpy as np\n",
    "import cv2\n",
    "\n",
    "def imshow_v2(img, binary=False):\n",
    "\n",
    "    if binary:\n",
    "        img = 1- img\n",
    "    \n",
    "    plt.subplot()\n",
    "    plt.imshow(img, cmap='Greys',  interpolation='nearest')\n",
    "  \n",
    "    plt.show()\n",
    "\n",
    "def open_image(img_file, split = False):\n",
    "\n",
    "    img = Image.open(img_file)\n",
    "    \n",
    "    if split:\n",
    "        red, green, blue = img.split()\n",
    "        return [img, green]\n",
    "    \n",
    "    else:\n",
    "        return img\n",
    "    \n",
    "def preprocess(pil_img, scale, mask_flag=[False, True], is_transfer_learning=False):\n",
    "        #mask_flag = [is_mask, is_multiclass]\n",
    "        \n",
    "    w, h = pil_img.size\n",
    "    newW, newH = int(scale * w), int(scale * h)\n",
    "    assert newW > 0 and newH > 0, 'Scale is too small'\n",
    "    pil_img = pil_img.resize((newW, newH))\n",
    "\n",
    "    img_nd = np.array(pil_img)\n",
    "    \n",
    "    if is_transfer_learning:\n",
    "        img_nd = cv2.resize(img_nd, (256,256), interpolation = cv2.INTER_AREA)\n",
    "    \n",
    "    if len(img_nd.shape) == 2:\n",
    "        img_nd = np.expand_dims(img_nd, axis=2)\n",
    "\n",
    "    img_trans = img_nd.transpose((2, 0, 1))\n",
    "\n",
    "    if img_trans.max() > 1:\n",
    "        img_trans = img_trans / 255\n",
    "        \n",
    "    if len(img_nd.shape) == 3:\n",
    "        img_trans = np.expand_dims(img_trans, axis=0)\n",
    "\n",
    "    return img_trans\n",
    "\n",
    "\n",
    "def predict_img_v2(net,\n",
    "                full_img,\n",
    "                device,\n",
    "                scale_factor=1,\n",
    "                out_threshold=0.5, \n",
    "                tranfer_learning=False):\n",
    "    net.eval()\n",
    "\n",
    "    #print(full_img.shape)\n",
    "    \n",
    "    img = preprocess(pil_img=full_img, scale=1, mask_flag=[False, False], \n",
    "                     is_transfer_learning=tranfer_learning)\n",
    "    \n",
    "    img = torch.from_numpy(img).type(torch.FloatTensor)\n",
    "    \n",
    "    img = img.to(device=device, dtype=torch.float32)\n",
    "    \n",
    "    #print(img.shape)\n",
    "\n",
    "    with torch.no_grad():\n",
    "        output = net(img)\n",
    "    \n",
    "    return output.squeeze().cpu().numpy()\n",
    "\n",
    "\n",
    "def unnormalize_joints(joints):\n",
    "    return [int(joints[i]*640) if i%2==0 else int(joints[i]*480) for i in range(0,len(joints))]\n",
    "\n",
    "\n",
    "def show_joints(img, joints, thickness):\n",
    "    \n",
    "    img = np.array(img)\n",
    "\n",
    "    for i in range(0,16,2):\n",
    "        img = cv2.circle(img, (int(joints[i]),int(joints[i+1])), \n",
    "                         radius=0, color=(0, 0, 255), thickness=thickness)\n",
    "\n",
    "    img = Image.fromarray(img)\n",
    "    imshow_v2(img)\n",
    "        "
   ]
  },
  {
   "cell_type": "code",
   "execution_count": 8,
   "metadata": {},
   "outputs": [],
   "source": [
    "def get_dataset_dataloader(df_set, input_channels, batch_size):\n",
    "    \n",
    "    dataset = BasicDataset(df_set, input_channels)\n",
    "    \n",
    "    data_loader = DataLoader(dataset, batch_size=batch_size, \n",
    "                             shuffle=True, num_workers=8, pin_memory=True)\n",
    "    \n",
    "    return data_loader"
   ]
  },
  {
   "cell_type": "code",
   "execution_count": 24,
   "metadata": {},
   "outputs": [],
   "source": [
    "from torchvision import models\n",
    "from SCNet import scnet\n",
    "\n",
    "def get_dl_model(model_name, pretrained):\n",
    "    \n",
    "    assert model_name in [\"resnet34\", \"vgg11\", \"alexnet\",\n",
    "                         \"squeezenet\", \"densenet121\"], \"Model \" + model_name + \" is not defined yet!\"\n",
    "    \n",
    "    if model_name == \"resnet34\":\n",
    "        model = models.resnet34(pretrained=pretrained)\n",
    "        num_ftrs = model.fc.in_features\n",
    "        model.fc = nn.Linear(num_ftrs, 16)\n",
    "    \n",
    "    elif model_name == \"vgg11\":\n",
    "        model = models.vgg11(pretrained=pretrained)\n",
    "        model.classifier[6] = nn.Linear(4096, 16)\n",
    "        \n",
    "    elif model_name == \"alexnet\":\n",
    "        model = models.alexnet(pretrained=pretrained)\n",
    "        model.classifier[6] = nn.Linear(4096, 16)\n",
    "        \n",
    "    elif model_name == \"squeezenet\":\n",
    "        model = models.squeezenet1_0(pretrained=pretrained)\n",
    "        model.classifier[1] = nn.Conv2d(512, 16, kernel_size=(1,1), stride=(1,1))\n",
    "        \n",
    "    elif model_name == \"densenet121\":\n",
    "        model = models.densenet121(pretrained=pretrained)\n",
    "        model.classifier = nn.Linear(1024, 16)\n",
    "    \n",
    "    elif model_name == \"scnet50\":\n",
    "        model = scnet.scnet50(pretrained=True)\n",
    "        model.fc = nn.Linear(2048, 16)\n",
    "        \n",
    "    elif model_name == \"scnet101\":\n",
    "        model = scnet.scnet101(pretrained=True)\n",
    "        model.fc = nn.Linear(2048, 16)\n",
    "        \n",
    "    elif model_name == \"scnet50_v1d\":\n",
    "        model = scnet.scnet50_v1d(pretrained=True)\n",
    "        model.fc = nn.Linear(2048, 16)\n",
    "        \n",
    "    elif model_name == \"scnet101_v1d\":\n",
    "        model = scnet.scnet101_v1d(pretrained=True)\n",
    "        model.fc = nn.Linear(2048, 16)\n",
    "        \n",
    "    \n",
    "    \n",
    "    model.to(device=device)\n",
    "    \n",
    "    return model\n"
   ]
  },
  {
   "cell_type": "markdown",
   "metadata": {},
   "source": [
    " "
   ]
  },
  {
   "cell_type": "markdown",
   "metadata": {},
   "source": [
    " "
   ]
  },
  {
   "cell_type": "markdown",
   "metadata": {},
   "source": [
    " "
   ]
  },
  {
   "cell_type": "code",
   "execution_count": 10,
   "metadata": {},
   "outputs": [],
   "source": [
    "USE_TRANSFER_LEARNING = True"
   ]
  },
  {
   "cell_type": "code",
   "execution_count": 11,
   "metadata": {},
   "outputs": [],
   "source": [
    "if USE_TRANSFER_LEARNING:\n",
    "    resize_str = \"_resized\"\n",
    "    dir_img = \"imgs_resized/\"\n",
    "    normalization = (256,256)\n",
    "else:\n",
    "    resize_str = \"\"\n",
    "    dir_img = \"imgs/\"\n",
    "    normalization = (640,480)"
   ]
  },
  {
   "cell_type": "code",
   "execution_count": null,
   "metadata": {},
   "outputs": [],
   "source": []
  },
  {
   "cell_type": "code",
   "execution_count": 12,
   "metadata": {},
   "outputs": [],
   "source": [
    "#define datasets for cross-validation\n",
    "\n",
    "data_folder = \"datasets/new_dataset_cv/csv/\"\n",
    "dataset_full_all = []\n",
    "\n",
    "for fold in range(1,6):\n",
    "    \n",
    "    df_train           = get_dataset(data_folder+'f'+str(fold)+'/train_resized.csv')\n",
    "    df_train_augmented = get_dataset(data_folder+'f'+str(fold)+'/train_aug_resized.csv')\n",
    "    df_validation      = get_dataset(data_folder+'f'+str(fold)+'/validation_resized.csv')\n",
    "    \n",
    "    df_train_full      = df_train.append(df_train_augmented)\n",
    "    \n",
    "    dataset_full_all.append((df_train_full, df_validation))"
   ]
  },
  {
   "cell_type": "markdown",
   "metadata": {},
   "source": [
    " "
   ]
  },
  {
   "cell_type": "markdown",
   "metadata": {},
   "source": [
    " "
   ]
  },
  {
   "cell_type": "markdown",
   "metadata": {},
   "source": [
    "## Squeezenet"
   ]
  },
  {
   "cell_type": "code",
   "execution_count": 36,
   "metadata": {
    "scrolled": true
   },
   "outputs": [
    {
     "data": {
      "application/vnd.jupyter.widget-view+json": {
       "model_id": "0c5d171aa0e3432e9c3cac68589c92a9",
       "version_major": 2,
       "version_minor": 0
      },
      "text/plain": [
       "HBox(children=(FloatProgress(value=0.0, max=2.0), HTML(value='')))"
      ]
     },
     "metadata": {},
     "output_type": "display_data"
    },
    {
     "name": "stdout",
     "output_type": "stream",
     "text": [
      "\n"
     ]
    },
    {
     "data": {
      "image/png": "[encoded data removed]",
      "text/plain": [
       "<Figure size 1440x720 with 1 Axes>"
      ]
     },
     "metadata": {
      "needs_background": "light"
     },
     "output_type": "display_data"
    },
    {
     "data": {
      "application/vnd.jupyter.widget-view+json": {
       "model_id": "43ad5307703c4e9c9af8f8fb27bd9725",
       "version_major": 2,
       "version_minor": 0
      },
      "text/plain": [
       "HBox(children=(FloatProgress(value=0.0, max=2.0), HTML(value='')))"
      ]
     },
     "metadata": {},
     "output_type": "display_data"
    },
    {
     "name": "stdout",
     "output_type": "stream",
     "text": [
      "\n"
     ]
    },
    {
     "data": {
      "image/png": "[encoded data removed]",
      "text/plain": [
       "<Figure size 720x720 with 1 Axes>"
      ]
     },
     "metadata": {
      "needs_background": "light"
     },
     "output_type": "display_data"
    },
    {
     "data": {
      "application/vnd.jupyter.widget-view+json": {
       "model_id": "a7e4d14477824c56b467b76270b19efb",
       "version_major": 2,
       "version_minor": 0
      },
      "text/plain": [
       "HBox(children=(FloatProgress(value=0.0, max=2.0), HTML(value='')))"
      ]
     },
     "metadata": {},
     "output_type": "display_data"
    },
    {
     "name": "stdout",
     "output_type": "stream",
     "text": [
      "\n"
     ]
    },
    {
     "data": {
      "image/png": "[encoded data removed]",
      "text/plain": [
       "<Figure size 720x720 with 1 Axes>"
      ]
     },
     "metadata": {
      "needs_background": "light"
     },
     "output_type": "display_data"
    },
    {
     "data": {
      "application/vnd.jupyter.widget-view+json": {
       "model_id": "fd61fa74bcec44d6980fbfbe85fcbcc1",
       "version_major": 2,
       "version_minor": 0
      },
      "text/plain": [
       "HBox(children=(FloatProgress(value=0.0, max=2.0), HTML(value='')))"
      ]
     },
     "metadata": {},
     "output_type": "display_data"
    },
    {
     "name": "stdout",
     "output_type": "stream",
     "text": [
      "\n"
     ]
    },
    {
     "data": {
      "image/png": "[encoded data removed]",
      "text/plain": [
       "<Figure size 720x720 with 1 Axes>"
      ]
     },
     "metadata": {
      "needs_background": "light"
     },
     "output_type": "display_data"
    },
    {
     "data": {
      "application/vnd.jupyter.widget-view+json": {
       "model_id": "4681e49a46274b7aaefd8fdd94c5a89c",
       "version_major": 2,
       "version_minor": 0
      },
      "text/plain": [
       "HBox(children=(FloatProgress(value=0.0, max=2.0), HTML(value='')))"
      ]
     },
     "metadata": {},
     "output_type": "display_data"
    },
    {
     "name": "stdout",
     "output_type": "stream",
     "text": [
      "\n"
     ]
    },
    {
     "data": {
      "image/png": "[encoded data removed]",
      "text/plain": [
       "<Figure size 720x720 with 1 Axes>"
      ]
     },
     "metadata": {
      "needs_background": "light"
     },
     "output_type": "display_data"
    }
   ],
   "source": [
    "model_name = \"squeezenet\"\n",
    "\n",
    "date_time = strftime(\"%Y%m%d%H%M%S\", gmtime())\n",
    "dir_checkpoint= 'checkpoints/CV/'+model_name+\"_\"+date_time\n",
    "\n",
    "device = torch.device('cuda' if torch.cuda.is_available() else 'cpu')\n",
    "batch_size = 8\n",
    "\n",
    "for kfold in range(0,5):\n",
    "\n",
    "    train_loader = get_dataset_dataloader(dataset_full_all[kfold][0], \n",
    "                                          input_channels=3, batch_size=batch_size)\n",
    "    \n",
    "    validation_loader = get_dataset_dataloader(dataset_full_all[kfold][1], \n",
    "                                               input_channels=3, batch_size=batch_size)\n",
    "\n",
    "    model = get_dl_model(model_name, True)\n",
    "\n",
    "    train_losses, val_losses = train_net(net=model, device=device, train_loader=train_loader, \n",
    "                                         validation_loader=validation_loader, \n",
    "                                         epochs=500, batch_size=batch_size, lr=0.0001, kfold=kfold)\n",
    "\n",
    "    plot_losses(train_losses, val_losses)\n",
    "\n",
    "    np.savetxt(\"losses/\"+model_name+\"_\"+date_time+\"_\"+str(kfold)+\"_train.csv\", np.array(train_losses))\n",
    "    np.savetxt(\"losses/\"+model_name+\"_\"+date_time+\"_\"+str(kfold)+\"_validation.csv\", np.array(train_losses))"
   ]
  },
  {
   "cell_type": "markdown",
   "metadata": {},
   "source": [
    " "
   ]
  },
  {
   "cell_type": "markdown",
   "metadata": {},
   "source": [
    " "
   ]
  },
  {
   "cell_type": "markdown",
   "metadata": {},
   "source": [
    "## AlexNet"
   ]
  },
  {
   "cell_type": "code",
   "execution_count": null,
   "metadata": {
    "scrolled": true
   },
   "outputs": [],
   "source": [
    "model_name = \"alexnet\"\n",
    "\n",
    "date_time = strftime(\"%Y%m%d%H%M%S\", gmtime())\n",
    "dir_checkpoint= 'checkpoints/CV/'+model_name+\"_\"+date_time\n",
    "\n",
    "device = torch.device('cuda' if torch.cuda.is_available() else 'cpu')\n",
    "batch_size = 8\n",
    "\n",
    "for kfold in range(0,5):\n",
    "\n",
    "    train_loader = get_dataset_dataloader(dataset_full_all[kfold][0], \n",
    "                                          input_channels=3, batch_size=batch_size)\n",
    "    \n",
    "    validation_loader = get_dataset_dataloader(dataset_full_all[kfold][1], \n",
    "                                               input_channels=3, batch_size=batch_size)\n",
    "\n",
    "    model = get_dl_model(model_name, True)\n",
    "\n",
    "    train_losses, val_losses = train_net(net=model, device=device, train_loader=train_loader, \n",
    "                                         validation_loader=validation_loader, \n",
    "                                         epochs=500, batch_size=batch_size, lr=0.0001, kfold=kfold)\n",
    "\n",
    "    plot_losses(train_losses, val_losses)\n",
    "\n",
    "    np.savetxt(\"losses/\"+model_name+\"_\"+date_time+\"_\"+str(kfold)+\"_train.csv\", np.array(train_losses))\n",
    "    np.savetxt(\"losses/\"+model_name+\"_\"+date_time+\"_\"+str(kfold)+\"_validation.csv\", np.array(train_losses))"
   ]
  },
  {
   "cell_type": "markdown",
   "metadata": {},
   "source": [
    " "
   ]
  },
  {
   "cell_type": "markdown",
   "metadata": {},
   "source": [
    " "
   ]
  },
  {
   "cell_type": "markdown",
   "metadata": {},
   "source": [
    "## VGG-11"
   ]
  },
  {
   "cell_type": "code",
   "execution_count": null,
   "metadata": {
    "scrolled": true
   },
   "outputs": [],
   "source": [
    "model_name = \"vgg11\"\n",
    "\n",
    "date_time = strftime(\"%Y%m%d%H%M%S\", gmtime())\n",
    "dir_checkpoint= 'checkpoints/CV/'+model_name+\"_\"+date_time\n",
    "\n",
    "device = torch.device('cuda' if torch.cuda.is_available() else 'cpu')\n",
    "batch_size = 8\n",
    "\n",
    "for kfold in range(0,5):\n",
    "\n",
    "    train_loader = get_dataset_dataloader(dataset_full_all[kfold][0], \n",
    "                                          input_channels=3, batch_size=batch_size)\n",
    "    \n",
    "    validation_loader = get_dataset_dataloader(dataset_full_all[kfold][1], \n",
    "                                               input_channels=3, batch_size=batch_size)\n",
    "\n",
    "    model = get_dl_model(model_name, True)\n",
    "\n",
    "    train_losses, val_losses = train_net(net=model, device=device, train_loader=train_loader, \n",
    "                                         validation_loader=validation_loader, \n",
    "                                         epochs=2, batch_size=batch_size, lr=0.0001, kfold=kfold)\n",
    "\n",
    "    plot_losses(train_losses, val_losses)\n",
    "\n",
    "    np.savetxt(\"losses/\"+model_name+\"_\"+date_time+\"_\"+str(kfold)+\"_train.csv\", np.array(train_losses))\n",
    "    np.savetxt(\"losses/\"+model_name+\"_\"+date_time+\"_\"+str(kfold)+\"_validation.csv\", np.array(train_losses))"
   ]
  },
  {
   "cell_type": "markdown",
   "metadata": {},
   "source": [
    " "
   ]
  },
  {
   "cell_type": "markdown",
   "metadata": {},
   "source": [
    " "
   ]
  },
  {
   "cell_type": "markdown",
   "metadata": {},
   "source": [
    " "
   ]
  },
  {
   "cell_type": "markdown",
   "metadata": {},
   "source": [
    "## ResNet34"
   ]
  },
  {
   "cell_type": "code",
   "execution_count": null,
   "metadata": {
    "scrolled": true
   },
   "outputs": [],
   "source": [
    "model_name = \"resnet34\"\n",
    "\n",
    "date_time = strftime(\"%Y%m%d%H%M%S\", gmtime())\n",
    "dir_checkpoint= 'checkpoints/CV/'+model_name+\"_\"+date_time\n",
    "\n",
    "device = torch.device('cuda' if torch.cuda.is_available() else 'cpu')\n",
    "batch_size = 8\n",
    "\n",
    "for kfold in range(0,5):\n",
    "\n",
    "    train_loader = get_dataset_dataloader(dataset_full_all[kfold][0], \n",
    "                                          input_channels=3, batch_size=batch_size)\n",
    "    \n",
    "    validation_loader = get_dataset_dataloader(dataset_full_all[kfold][1], \n",
    "                                               input_channels=3, batch_size=batch_size)\n",
    "\n",
    "    model = get_dl_model(model_name, True)\n",
    "\n",
    "    train_losses, val_losses = train_net(net=model, device=device, train_loader=train_loader, \n",
    "                                         validation_loader=validation_loader, \n",
    "                                         epochs=2, batch_size=batch_size, lr=0.0001, kfold=kfold)\n",
    "\n",
    "    plot_losses(train_losses, val_losses)\n",
    "\n",
    "    np.savetxt(\"losses/\"+model_name+\"_\"+date_time+\"_\"+str(kfold)+\"_train.csv\", np.array(train_losses))\n",
    "    np.savetxt(\"losses/\"+model_name+\"_\"+date_time+\"_\"+str(kfold)+\"_validation.csv\", np.array(train_losses))"
   ]
  },
  {
   "cell_type": "markdown",
   "metadata": {},
   "source": [
    " "
   ]
  },
  {
   "cell_type": "markdown",
   "metadata": {},
   "source": [
    " "
   ]
  },
  {
   "cell_type": "markdown",
   "metadata": {},
   "source": [
    "## DenseNet-121"
   ]
  },
  {
   "cell_type": "code",
   "execution_count": null,
   "metadata": {
    "scrolled": true
   },
   "outputs": [],
   "source": [
    "model_name = \"densenet121\"\n",
    "\n",
    "date_time = strftime(\"%Y%m%d%H%M%S\", gmtime())\n",
    "dir_checkpoint= 'checkpoints/CV/'+model_name+\"_\"+date_time\n",
    "\n",
    "device = torch.device('cuda' if torch.cuda.is_available() else 'cpu')\n",
    "batch_size = 4\n",
    "\n",
    "for kfold in range(0,5):\n",
    "\n",
    "    train_loader = get_dataset_dataloader(dataset_full_all[kfold][0], \n",
    "                                          input_channels=3, batch_size=batch_size)\n",
    "    \n",
    "    validation_loader = get_dataset_dataloader(dataset_full_all[kfold][1], \n",
    "                                               input_channels=3, batch_size=batch_size)\n",
    "\n",
    "    model = get_dl_model(model_name, True)\n",
    "\n",
    "    train_losses, val_losses = train_net(net=model, device=device, train_loader=train_loader, \n",
    "                                         validation_loader=validation_loader, \n",
    "                                         epochs=2, batch_size=batch_size, lr=0.0001, kfold=kfold)\n",
    "\n",
    "    plot_losses(train_losses, val_losses)\n",
    "\n",
    "    np.savetxt(\"losses/\"+model_name+\"_\"+date_time+\"_\"+str(kfold)+\"_train.csv\", np.array(train_losses))\n",
    "    np.savetxt(\"losses/\"+model_name+\"_\"+date_time+\"_\"+str(kfold)+\"_validation.csv\", np.array(train_losses))"
   ]
  },
  {
   "cell_type": "markdown",
   "metadata": {},
   "source": [
    " "
   ]
  },
  {
   "cell_type": "markdown",
   "metadata": {},
   "source": [
    " "
   ]
  },
  {
   "cell_type": "markdown",
   "metadata": {},
   "source": [
    "## SC-Net-50"
   ]
  },
  {
   "cell_type": "code",
   "execution_count": null,
   "metadata": {
    "scrolled": true
   },
   "outputs": [],
   "source": [
    "model_name = \"scnet50\"\n",
    "\n",
    "date_time = strftime(\"%Y%m%d%H%M%S\", gmtime())\n",
    "dir_checkpoint= 'checkpoints/CV/'+model_name+\"_\"+date_time\n",
    "\n",
    "device = torch.device('cuda' if torch.cuda.is_available() else 'cpu')\n",
    "batch_size = 4\n",
    "\n",
    "for kfold in range(0,5):\n",
    "\n",
    "    train_loader = get_dataset_dataloader(dataset_full_all[kfold][0], \n",
    "                                          input_channels=3, batch_size=batch_size)\n",
    "    \n",
    "    validation_loader = get_dataset_dataloader(dataset_full_all[kfold][1], \n",
    "                                               input_channels=3, batch_size=batch_size)\n",
    "\n",
    "    model = get_dl_model(model_name, True)\n",
    "\n",
    "    train_losses, val_losses = train_net(net=model, device=device, train_loader=train_loader, \n",
    "                                         validation_loader=validation_loader, \n",
    "                                         epochs=2, batch_size=batch_size, lr=0.0001, kfold=kfold)\n",
    "\n",
    "    plot_losses(train_losses, val_losses)\n",
    "\n",
    "    np.savetxt(\"losses/\"+model_name+\"_\"+date_time+\"_\"+str(kfold)+\"_train.csv\", np.array(train_losses))\n",
    "    np.savetxt(\"losses/\"+model_name+\"_\"+date_time+\"_\"+str(kfold)+\"_validation.csv\", np.array(train_losses))"
   ]
  },
  {
   "cell_type": "markdown",
   "metadata": {},
   "source": [
    " "
   ]
  },
  {
   "cell_type": "markdown",
   "metadata": {},
   "source": [
    " "
   ]
  },
  {
   "cell_type": "markdown",
   "metadata": {},
   "source": [
    "## SCNet-50-v1d"
   ]
  },
  {
   "cell_type": "code",
   "execution_count": 23,
   "metadata": {
    "scrolled": true
   },
   "outputs": [
    {
     "ename": "TypeError",
     "evalue": "get_dataset_dataloader() got multiple values for argument 'input_channels'",
     "output_type": "error",
     "traceback": [
      "\u001b[0;31m---------------------------------------------------------------------------\u001b[0m",
      "\u001b[0;31mTypeError\u001b[0m                                 Traceback (most recent call last)",
      "\u001b[0;32m<ipython-input-23-71a870b24a38>\u001b[0m in \u001b[0;36m<module>\u001b[0;34m\u001b[0m\n\u001b[1;32m      7\u001b[0m \u001b[0mbatch_size\u001b[0m \u001b[0;34m=\u001b[0m \u001b[0;36m8\u001b[0m\u001b[0;34m\u001b[0m\u001b[0;34m\u001b[0m\u001b[0m\n\u001b[1;32m      8\u001b[0m \u001b[0;34m\u001b[0m\u001b[0m\n\u001b[0;32m----> 9\u001b[0;31m \u001b[0mtrain_loader\u001b[0m \u001b[0;34m=\u001b[0m \u001b[0mget_dataset_dataloader\u001b[0m\u001b[0;34m(\u001b[0m\u001b[0mdir_img\u001b[0m\u001b[0;34m,\u001b[0m \u001b[0mdf_train_full\u001b[0m\u001b[0;34m,\u001b[0m \u001b[0minput_channels\u001b[0m\u001b[0;34m=\u001b[0m\u001b[0;36m3\u001b[0m\u001b[0;34m,\u001b[0m \u001b[0mbatch_size\u001b[0m\u001b[0;34m=\u001b[0m\u001b[0mbatch_size\u001b[0m\u001b[0;34m)\u001b[0m\u001b[0;34m\u001b[0m\u001b[0;34m\u001b[0m\u001b[0m\n\u001b[0m\u001b[1;32m     10\u001b[0m \u001b[0mvalidation_loader\u001b[0m \u001b[0;34m=\u001b[0m \u001b[0mget_dataset_dataloader\u001b[0m\u001b[0;34m(\u001b[0m\u001b[0mdir_img\u001b[0m\u001b[0;34m,\u001b[0m \u001b[0mdf_validation\u001b[0m\u001b[0;34m,\u001b[0m \u001b[0minput_channels\u001b[0m\u001b[0;34m=\u001b[0m\u001b[0;36m3\u001b[0m\u001b[0;34m,\u001b[0m \u001b[0mbatch_size\u001b[0m\u001b[0;34m=\u001b[0m\u001b[0mbatch_size\u001b[0m\u001b[0;34m)\u001b[0m\u001b[0;34m\u001b[0m\u001b[0;34m\u001b[0m\u001b[0m\n\u001b[1;32m     11\u001b[0m \u001b[0;34m\u001b[0m\u001b[0m\n",
      "\u001b[0;31mTypeError\u001b[0m: get_dataset_dataloader() got multiple values for argument 'input_channels'"
     ]
    }
   ],
   "source": [
    "model_name = \"scnet50_v1d\"\n",
    "\n",
    "date_time = strftime(\"%Y%m%d%H%M%S\", gmtime())\n",
    "dir_checkpoint= 'checkpoints/CV/'+model_name+\"_\"+date_time\n",
    "\n",
    "device = torch.device('cuda' if torch.cuda.is_available() else 'cpu')\n",
    "batch_size = 4\n",
    "\n",
    "for kfold in range(0,5):\n",
    "\n",
    "    train_loader = get_dataset_dataloader(dataset_full_all[kfold][0], \n",
    "                                          input_channels=3, batch_size=batch_size)\n",
    "    \n",
    "    validation_loader = get_dataset_dataloader(dataset_full_all[kfold][1], \n",
    "                                               input_channels=3, batch_size=batch_size)\n",
    "\n",
    "    model = get_dl_model(model_name, True)\n",
    "\n",
    "    train_losses, val_losses = train_net(net=model, device=device, train_loader=train_loader, \n",
    "                                         validation_loader=validation_loader, \n",
    "                                         epochs=2, batch_size=batch_size, lr=0.0001, kfold=kfold)\n",
    "\n",
    "    plot_losses(train_losses, val_losses)\n",
    "\n",
    "    np.savetxt(\"losses/\"+model_name+\"_\"+date_time+\"_\"+str(kfold)+\"_train.csv\", np.array(train_losses))\n",
    "    np.savetxt(\"losses/\"+model_name+\"_\"+date_time+\"_\"+str(kfold)+\"_validation.csv\", np.array(train_losses))"
   ]
  },
  {
   "cell_type": "code",
   "execution_count": null,
   "metadata": {},
   "outputs": [],
   "source": []
  }
 ],
 "metadata": {
  "kernelspec": {
   "display_name": "Python 3",
   "language": "python",
   "name": "python3"
  },
  "language_info": {
   "codemirror_mode": {
    "name": "ipython",
    "version": 3
   },
   "file_extension": ".py",
   "mimetype": "text/x-python",
   "name": "python",
   "nbconvert_exporter": "python",
   "pygments_lexer": "ipython3",
   "version": "3.12.4"
  }
 },
 "nbformat": 4,
 "nbformat_minor": 4
}
